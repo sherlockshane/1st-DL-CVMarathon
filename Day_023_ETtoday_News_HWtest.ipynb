{
 "cells": [
  {
   "cell_type": "code",
   "execution_count": 1,
   "metadata": {},
   "outputs": [],
   "source": [
    "import requests\n",
    "import time\n",
    "from bs4 import BeautifulSoup\n",
    "from selenium import webdriver\n",
    "from selenium.webdriver.common.keys import Keys"
   ]
  },
  {
   "cell_type": "code",
   "execution_count": null,
   "metadata": {},
   "outputs": [],
   "source": [
    "ETtoday_url = \"https://www.ettoday.net/news/focus/%E8%B2%A1%E7%B6%93/\"  #財經新聞"
   ]
  },
  {
   "cell_type": "code",
   "execution_count": 15,
   "metadata": {},
   "outputs": [
    {
     "ename": "SyntaxError",
     "evalue": "invalid syntax (<ipython-input-15-218673ec3061>, line 12)",
     "output_type": "error",
     "traceback": [
      "\u001b[1;36m  File \u001b[1;32m\"<ipython-input-15-218673ec3061>\"\u001b[1;36m, line \u001b[1;32m12\u001b[0m\n\u001b[1;33m    JavascriptExecutor js = (JavascriptExecutor) driver;\u001b[0m\n\u001b[1;37m                        ^\u001b[0m\n\u001b[1;31mSyntaxError\u001b[0m\u001b[1;31m:\u001b[0m invalid syntax\n"
     ]
    }
   ],
   "source": [
    "ETtoday_url = \"https://www.ettoday.net/news/focus/%E8%B2%A1%E7%B6%93/\"  #財經新聞\n",
    "browser = webdriver.Chrome('./chromedriver')\n",
    "browser.get(ETtoday_url)  # 打開瀏覽器並連到東森新聞雲網頁\n",
    "\n",
    "SCROLL_PAUSE_TIME = 1;\n",
    "\n",
    "#\n",
    "# 以下是用Selenium模擬下拉網頁動作，讓網頁更新\n",
    "#\n",
    "\n",
    "last_height = browser.execute_script(\"window.scrollTo(0, document.body.scrollHeight);\");\n",
    "JavascriptExecutor js = (JavascriptExecutor) driver;\n",
    "try {\n",
    "        long lastHeight = (long) ((JavascriptExecutor) webDriver).executeScript(\"return document.body.scrollHeight\");\n",
    "\n",
    "        while (true) {\n",
    "            ((JavascriptExecutor) webDriver).executeScript(\"window.scrollTo(0, document.body.scrollHeight);\");\n",
    "            Thread.sleep(2000);\n",
    "\n",
    "            long newHeight = (long) ((JavascriptExecutor) webDriver).executeScript(\"return document.body.scrollHeight\");\n",
    "            if (newHeight == lastHeight) {\n",
    "                break;\n",
    "            }\n",
    "            lastHeight = newHeight;\n",
    "        }\n",
    "    }\n",
    "    catch(InterruptedException e) {\n",
    "            e.printStackTrace();\n",
    "    }"
   ]
  },
  {
   "cell_type": "code",
   "execution_count": null,
   "metadata": {},
   "outputs": [],
   "source": [
    "#\n",
    "# 這裡先建立一個函數，其功能是連到外部連結，並爬取新聞內容。\n",
    "#\n",
    "def getNewsDetailContent(link_url):\n",
    "    resp = requests.get(link_url)\n",
    "    resp.encoding = 'utf-8'\n",
    "    #print(resp.text)\n",
    "\n",
    "    soup = BeautifulSoup(resp.text, 'lxml')\n",
    "    news_content = soup.find(\"div\", attrs={'class':'story'}).find_all(\"p\")\n",
    "    for p in news_content:\n",
    "        \"\"\"\n",
    "        .string屬性說明：\n",
    "        (1) 若當前tag節點底下沒有其他tag子節點，會直接抓取內容(返回\"NavigableString\")\n",
    "        (2) 若當前tag節點底下只有唯一的一個tag子節點，也會直接抓取tag子節點的內容(返回\"NavigableString\")\n",
    "        (3) 但若當前tag節點底下還有很多個tag子節點，.string就無法判斷，(返回\"None\")\n",
    "        \"\"\"\n",
    "        if ((p.string) is not None):\n",
    "            print(p.string)"
   ]
  }
 ],
 "metadata": {
  "kernelspec": {
   "display_name": "Python 3",
   "language": "python",
   "name": "python3"
  },
  "language_info": {
   "codemirror_mode": {
    "name": "ipython",
    "version": 3
   },
   "file_extension": ".py",
   "mimetype": "text/x-python",
   "name": "python",
   "nbconvert_exporter": "python",
   "pygments_lexer": "ipython3",
   "version": "3.7.3"
  }
 },
 "nbformat": 4,
 "nbformat_minor": 2
}
