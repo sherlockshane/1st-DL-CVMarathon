{
 "cells": [
  {
   "cell_type": "markdown",
   "metadata": {},
   "source": [
    "# HTTP 靜態網頁架構說明\n",
    "\n",
    "* 認識靜態網頁的溝通架構與運作原理\n",
    "* HTML、CSS、JavaScript 在網頁中扮演的角色\n",
    "* 網頁中定位資料的方法"
   ]
  },
  {
   "cell_type": "markdown",
   "metadata": {},
   "source": [
    "## 作業目標\n",
    "\n",
    "1. （簡答題）請問目前提到的這種基於 HTTP 一來一回的網頁傳輸方式，有哪些缺點及問題？\n",
    "2. （簡答題）網頁中使用的 JavaScipt 程式語言，跟我們一般使用的 Python 在執行上有什麼不同。\n"
   ]
  },
  {
   "cell_type": "markdown",
   "metadata": {},
   "source": [
    "### 1.（簡答題）請問目前提到的這種基於 HTTP 一來一回的網頁傳輸方式，有哪些缺點及問題？"
   ]
  },
  {
   "cell_type": "code",
   "execution_count": 9,
   "metadata": {},
   "outputs": [
    {
     "name": "stdout",
     "output_type": "stream",
     "text": [
      "Http必須是client端發送請求，Server才會有回應，也就是說如果client沒有發送要求的話，那Server無法主動傳東西過來\n",
      "在現代企業端需要常常主動推播資訊給顧客端的時代，這樣的傳輸方式會無法讓顧客端即時收到最新的通知，可能會造成顧客端一些權益上的損失等。\n"
     ]
    }
   ],
   "source": [
    "print('Http必須是client端發送請求，Server才會有回應，也就是說如果client沒有發送要求的話，那Server無法主動傳東西過來''\\n在現代企業端需要常常主動推播資訊給顧客端的時代，這樣的傳輸方式會無法讓顧客端即時收到最新的通知，可能會造成顧客端一些權益上的損失等。')\n"
   ]
  },
  {
   "cell_type": "markdown",
   "metadata": {},
   "source": [
    "### 2. （簡答題）網頁中使用的 JavaScipt 程式語言，跟我們一般使用的 Python 在執行上有什麼不同。"
   ]
  },
  {
   "cell_type": "code",
   "execution_count": 10,
   "metadata": {},
   "outputs": [
    {
     "name": "stdout",
     "output_type": "stream",
     "text": [
      "JavaScript基本上就是用在前端的程式語言，除了可以讓網頁有更生動的表現(動態的表現)，網頁上的一些功能也可以透過JS來實現，\n",
      "而Python雖然不能用在前端網頁，但是它能應用的領域更廣，無論是機器學習或是資料分析都能使用Python。\n"
     ]
    }
   ],
   "source": [
    "print('JavaScript基本上就是用在前端的程式語言，除了可以讓網頁有更生動的表現(動態的表現)，網頁上的一些功能也可以透過JS來實現，\\n而Python雖然不能用在前端網頁，但是它能應用的領域更廣，無論是機器學習或是資料分析都能使用Python。')"
   ]
  },
  {
   "cell_type": "code",
   "execution_count": null,
   "metadata": {},
   "outputs": [],
   "source": []
  }
 ],
 "metadata": {
  "kernelspec": {
   "display_name": "Python 3",
   "language": "python",
   "name": "python3"
  },
  "language_info": {
   "codemirror_mode": {
    "name": "ipython",
    "version": 3
   },
   "file_extension": ".py",
   "mimetype": "text/x-python",
   "name": "python",
   "nbconvert_exporter": "python",
   "pygments_lexer": "ipython3",
   "version": "3.7.3"
  }
 },
 "nbformat": 4,
 "nbformat_minor": 2
}
