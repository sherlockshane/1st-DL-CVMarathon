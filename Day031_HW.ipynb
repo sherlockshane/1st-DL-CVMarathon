{
 "cells": [
  {
   "cell_type": "markdown",
   "metadata": {},
   "source": [
    "# 反爬：瀏覽器標頭與基本資訊\n",
    "\n",
    "\n",
    "* 了解「檢查 HTTP 標頭檔」的反爬蟲機制\n",
    "* 「檢查 HTTP 標頭檔」反爬蟲的因應策略\n"
   ]
  },
  {
   "cell_type": "markdown",
   "metadata": {},
   "source": [
    "## 作業目標\n",
    "\n",
    "* 尋找一個網站是有作 Header 檢查的（Hint: 有加跟沒有加回傳結果不一樣）\n",
    "* 用上述網站說明該如何判斷 Header 中必須加上哪些資料才會正確\n"
   ]
  },
  {
   "cell_type": "markdown",
   "metadata": {},
   "source": [
    "### 尋找一個網站是有作 Header 檢查的（Hint: 有加跟沒有加回傳結果不一樣）"
   ]
  },
  {
   "cell_type": "code",
   "execution_count": 10,
   "metadata": {},
   "outputs": [
    {
     "data": {
      "text/plain": [
       "'<!DOCTYPE html>\\n<!--[if lt IE 7]> <html class=\"no-js ie6 oldie\" lang=\"en-US\"> <![endif]-->\\n<!--[if IE 7]>    <html class=\"no-js ie7 oldie\" lang=\"en-US\"> <![endif]-->\\n<!--[if IE 8]>    <html class=\"no-js ie8 oldie\" lang=\"en-US\"> <![endif]-->\\n<!--[if gt IE 8]><!--> <html class=\"no-js\" lang=\"en-US\"> <!--<![endif]-->\\n<head>\\n<title>Access denied | www.mobile01.com used Cloudflare to restrict access</title>\\n<meta charset=\"UTF-8\" />\\n<meta http-equiv=\"Content-Type\" content=\"text/html; charset=UTF-8\" />\\n<meta http-equiv=\"X-UA-Compatible\" content=\"IE=Edge,chrome=1\" />\\n<meta name=\"robots\" content=\"noindex, nofollow\" />\\n<meta name=\"viewport\" content=\"width=device-width,initial-scale=1\" />\\n<link rel=\"stylesheet\" id=\"cf_styles-css\" href=\"/cdn-cgi/styles/main.css\" type=\"text/css\" media=\"screen,projection\" />\\n<script async src=\\'/cdn-cgi/bm/cv/669835187/api.js\\'></script></head>\\n<body>\\n<div id=\"cf-wrapper\">\\n<div class=\"cf-alert cf-alert-error cf-cookie-error hidden\" id=\"cookie-alert\" data-translate=\"enable_cookies\">Please enable cookies.</div>\\n<div id=\"cf-error-details\" class=\"p-0\">\\n<header class=\"mx-auto pt-10 lg:pt-6 lg:px-8 w-240 lg:w-full mb-15 antialiased\">\\n<h1 class=\"inline-block md:block mr-2 md:mb-2 font-light text-60 md:text-3xl text-black-dark leading-tight\">\\n<span data-translate=\"error\">Error</span>\\n<span>1020</span>\\n</h1>\\n<span class=\"inline-block md:block heading-ray-id font-mono text-15 lg:text-sm lg:leading-relaxed\">Ray ID: 6736198fdebd5707 &bull;</span>\\n<span class=\"inline-block md:block heading-ray-id font-mono text-15 lg:text-sm lg:leading-relaxed\">2021-07-23 15:56:37 UTC</span>\\n<h2 class=\"text-gray-600 leading-1.3 text-3xl lg:text-2xl font-light\">Access denied</h2>\\n</header>\\n<section class=\"w-240 lg:w-full mx-auto mb-8 lg:px-8\">\\n<div id=\"what-happened-section\" class=\"w-1/2 md:w-full\">\\n<h2 class=\"text-3xl leading-tight font-normal mb-4 text-black-dark antialiased\" data-translate=\"what_happened\">What happened?</h2>\\n<p>This website is using a security service to protect itself from online attacks.</p>\\n</div>\\n</section>\\n<div class=\"cf-error-footer cf-wrapper w-240 lg:w-full py-10 sm:py-4 sm:px-8 mx-auto text-center sm:text-left border-solid border-0 border-t border-gray-300\">\\n<p class=\"text-13\">\\n<span class=\"cf-footer-item sm:block sm:mb-1\">Cloudflare Ray ID: <strong class=\"font-semibold\">6736198fdebd5707</strong></span>\\n<span class=\"cf-footer-separator sm:hidden\">&bull;</span>\\n<span class=\"cf-footer-item sm:block sm:mb-1\"><span>Your IP</span>: 36.238.101.97</span>\\n<span class=\"cf-footer-separator sm:hidden\">&bull;</span>\\n<span class=\"cf-footer-item sm:block sm:mb-1\"><span>Performance &amp; security by</span> <a rel=\"noopener noreferrer\" href=\"https://www.cloudflare.com/5xx-error-landing\" id=\"brand_link\" target=\"_blank\">Cloudflare</a></span>\\n</p>\\n</div>\\n</div>\\n</div>\\n<script type=\"text/javascript\">\\n  window._cf_translation = {};\\n  \\n  \\n</script>\\n<script type=\"text/javascript\">(function(){window[\\'__CF$cv$params\\']={r:\\'6736198fdebd5707\\',m:\\'f8a69e96ba11c549584a9984908fd080e37e896b-1627055797-1800-AQRa5GYnSoXN0aoHsKH9wRLs3oNRFdjjRmGqpN+cNTEPzU7evkDBHS55Wn69IR+Q6+R9d2J/IuH9DBTzMHD0hELbmvveFa4XUJ6NYR+j70jbGEOwn1ysJX68WRr+tHDUUw==\\',s:[0x504f673ebd,0xdddefb9e22],}})();</script></body>\\n</html>\\n'"
      ]
     },
     "execution_count": 10,
     "metadata": {},
     "output_type": "execute_result"
    }
   ],
   "source": [
    "import requests\n",
    "# headers = {'user-agent': 'my-app/0.0.1'}\n",
    "r = requests.get('https://www.mobile01.com/')\n",
    "response = r.text\n",
    "\n",
    "response"
   ]
  },
  {
   "cell_type": "markdown",
   "metadata": {},
   "source": [
    "### 用上述網站說明該如何判斷 Header 中必須加上哪些資料才會正確\n"
   ]
  },
  {
   "cell_type": "code",
   "execution_count": 5,
   "metadata": {},
   "outputs": [
    {
     "data": {
      "text/plain": [
       "'<!doctype html>\\n<html lang=\"zh-Hant-TW\">\\n    <head>\\n          <meta charset=\"utf-8\">\\n          <meta name=\"robots\" content=\"noindex, nofollow\">\\n          <meta name=\"viewport\" content=\"width=device-width, initial-scale=1, shrink-to-fit=no\">\\n          <title>安全驗證 - Mobile01</title>\\n          <style>body{background-color:#fff;color:#000;font-family:Arial,Microsoft JhengHei,Helvetica,sans-serif;font-size:16px;line-height:1.5;margin:0}.container{margin:50px auto;max-width:600px;text-align:center;padding:0 24px}.captcha-box{display:inline-block}small{font-size:14px}</style>\\n      <meta http-equiv=\"refresh\" content=\"12\">\\n  <script type=\"text/javascript\">\\n    //<![CDATA[\\n    (function(){\\n      \\n      window._cf_chl_opt={\\n        cvId: \"2\",\\n        cType: \"non-interactive\",\\n        cNounce: \"34507\",\\n        cRay: \"67360ff33ed30738\",\\n        cHash: \"8440337c3deb055\",\\n        cFPWv: \"g\",\\n        cTTimeMs: \"4000\",\\n        cRq: {\\n          ru: \"aHR0cHM6Ly93d3cubW9iaWxlMDEuY29tLw==\",\\n          ra: \"bXktYXBwLzAuMC4x\",\\n          rm: \"R0VU\",\\n          d: \"XJhK2+NCYb8+rv37i0J6KPIPt8qMpC8E41gdk1tHMuKsUU97n7F2YI+/liwJiKziUEj9Cb3k3pCvyfLEGh5wNcVO831omwFVA0ead73C+it7IrhcSRV85mG/pV2RfFypJZxlcJJqvF+/i9/9+5jl2YbEjXuMmY+O7PxxDtz+lK0RTd/YqussbJ672h/c90V4ab68hpFklbmko5zVsTmWr0W9WTGOmF4pEfCFwdzrMoM+zabRzQ4GSptopQYQ2WXqxTlAA2kp2aEm+XRBTRg6F+TckD2B3nk9PDHvQ4h9J7+qstRuxo8Xq49SYTBHX7Ady07vc1fkPlvm98Bk4Br7u7Ic0Q/JqSVj7vDE/VlM15S5p3IXkFwtolnZVj67jUELcTWgohSibKJ6pMDcC9RgeEmNQ0WvCjA1DTXTVaN3QIuWYU3x1BaVBz5Mc60PcZTaZJaSSaCZqIWsy5C+NLIDl27WRkflJVagfkgaMFHNcWEw6PeaRS0JPSOIHFXipgrcZ6fI3Ywnh4DBfWfAEuRqBOAdlqjFl+92KnrvBK88WANZUfr5G9ZBzySrPB+Y0AqHoTpueDuIzGeNGNnp04evhnHFokf475hvjK+N+51gN58Ai3j1BJ5gADwlX1wz/9+B996V4zTA6k+jQY6RnMlJZYMjCFSlkMhXvaqEAZLPmmPSaTJO72IbHbpaYisX4wtMJTIRMXVfRd6TVlkZiIfiLg==\",\\n          t: \"MTYyNzA1NTQwNC4wNTMwMDA=\",\\n          m: \"xDbeN+3iuJ/epSzQNsDlBC3bVAlxLThT4YmtFj6yL2g=\",\\n          i1: \"RSSSazmQI7JXvLB34b53uw==\",\\n          i2: \"gxpJz6XKm2POmfJDZ1CjIA==\",\\n          zh: \"5X3p6t0UbHOY6QW6HWeBG6UtAANlCDXbnwapfzxXMdc=\",\\n          uh: \"fY3OJVkgNSnv7QS0u0o4IY/koOmdQvcb0sVDHq2sZ40=\",\\n          hh: \"9j8dRtubWPXtyIkysxuk+pQSkSk6XFRftOEhDRuC/Zg=\",\\n        }\\n      }\\n      window._cf_chl_enter = function(){window._cf_chl_opt.p=1};\\n      \\n    })();\\n    //]]>\\n  </script>\\n  \\n</head>\\n    <body>\\n        <div class=\"container\">\\n            <img src=\"data:image/png;base64, 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\" width=\"167\" height=\"35\" />\\n\\n            <p>\\n                歡迎來到 Mobile01\\n            </p>\\n\\n            <div class=\"captcha-box\">\\n                <div class=\"cf-browser-verification cf-im-under-attack\">\\n  <noscript>\\n    <h1 data-translate=\"turn_on_js\" style=\"color:#bd2426;\">Please turn JavaScript on and reload the page.</h1>\\n  </noscript>\\n  <div id=\"cf-content\" style=\"display:none\">\\n    \\n    <div id=\"cf-bubbles\">\\n      <div class=\"bubbles\"></div>\\n      <div class=\"bubbles\"></div>\\n      <div class=\"bubbles\"></div>\\n    </div>\\n    <h1><span data-translate=\"checking_browser\">Checking your browser before accessing</span> mobile01.com.</h1>\\n    \\n    <div id=\"no-cookie-warning\" class=\"cookie-warning\" data-translate=\"turn_on_cookies\" style=\"display:none\">\\n      <p data-translate=\"turn_on_cookies\" style=\"color:#bd2426;\">Please enable Cookies and reload the page.</p>\\n    </div>\\n    <p data-translate=\"process_is_automatic\">This process is automatic. Your browser will redirect to your requested content shortly.</p>\\n    <p data-translate=\"allow_5_secs\" id=\"cf-spinner-allow-5-secs\" >Please allow up to 5 seconds&hellip;</p>\\n    <p data-translate=\"redirecting\" id=\"cf-spinner-redirecting\" style=\"display:none\">Redirecting&hellip;</p>\\n  </div>\\n   \\n  <form class=\"challenge-form\" id=\"challenge-form\" action=\"/?__cf_chl_jschl_tk__=pmd_480e7ecbb4f10c7677d21fe00a40fe22e98c3b8d-1627055404-0-gqNtZGzNAg2jcnBszQci\" method=\"POST\" enctype=\"application/x-www-form-urlencoded\">\\n    <input type=\"hidden\" name=\"md\" value=\"f4dfa20923016d7a9ae638507e41250581b65311-1627055404-0-AdpFMpQEzIWmeCyEbwRgepTT0zpuvHlYN6q-c2yyeM8tzm_JrFyye7HVF0pE9StEGWhbyTXx8BcOTpXvKUgkDmCJB92zNwh8aHm_hI6QhDuSpseUebF9NDG0sLhC-6yKkVwK4cgs-9o_z3Yej2DRVkBubh-7o9F-79Xo2OlCU9a6uD1mDovfv8LAaQeP68IhV2WRPGZC2VlleLMj8qlgXfxSmo7blncbXWmjq4nairVZHpSoL_CULqY3BPDsSlWHOkRkS78fyrf40UXUp22Cjze2Ox6KwPsBKm7EVpLD_AnE9B7_kS6HEZBwSbLEm1jHGoIlFf45tZQIPAuvE9h6cR7wSC3nxffKhtV-P48RUAKdy5h24vzlCXFV1KRmqlvES9ZqlgpjzmOlwB-A9mv0NkZpxlt5PhGxaWhA_sPsyLsWFixomp6SbTvkhg5hwlhf1jP5l_BnGUMtLpYdj6azDtE\" />\\n    <input type=\"hidden\" name=\"r\" value=\"c6090ff439748bf43601781f58a35b730687d55e-1627055404-0-ARYO+7gn13eKB326HqObTMH8n6FHsmAxBeBH7TyBC1SUInexsYB8STJuqwRUYm3EghCB736pbXzkCMUY8m2HUlHJ26/L8iG3DZzIf66TmMVpnxY+89mcr1PPQx/cizmRWinacCgRdtqeo+5WnEDgkEPZzVunbVCV22EcOdwQLf/OQ/vUBB3/AYJ8wn1z4ZUNGblfoRblmxfRnY1fn3mXxn4p7HN3CM+XfhRQ1Bw5/AmbnKPqWwExn8LLHeYTrfGWcOneHaabVOvK4XkRWUxhJnfKEPXeFmBaG/TDjfOYGWGLtTpCfd7Nhp4jeOs160fmcgQ5JHj+3TnKEuyqWtDF/3E+xf4OwnvVVjZcCzM1QJrcd/s/EUbNIYktprkbnN0ZTiULFfQUMd/ZU0iwBLFyY2VP+WFQXtN9JJuAg64BFRFIjLfyAW8zLVzInBKSrTJ1CwxlDUFQogmmCFuXabosUnZX92l3hubgmToLN5NN3TLj+dXQQ49680gYzG2DVzQmzdd64aESHT9yDmBHuZv8AfTjoNs+AGNksd6QC09f5adBRBK5fL84mhe3zGueSuKgsTTrYWVlcHQ5QUJv0jBqo7ht0Y2TMhRm2OUq2fJj9d7fIY1rtgAuE8KaIXG3vmWxuOfpn+RXxXa28asHKTz8KQ5Up9/dxweCEGD8VjS3E38Gy5gKqRaLu9zKBurEScQzYNh07EwxUUpN6p3/YN6PrFkpP3G3TiriMMSsqvxHJtO1om7Bg+NkCvc9Bsn4jo+RqiAyMo1TZ+uDAtVEnjzZMozNw+tzTx0VrYiYgBIs1AD14y//hVzXkhUNYWlBX6aTML366wUYgrSu3CDWbCSIxu55gEPgzoUeXPJ0hKe3cLsYok/wpzz9c7mhx0scOlEhAsnw8Futx0vpI9R3NUKe/x5c7hiqh0tRCJjyKrD3DZ8oL861XStg5ur93EbAoAM/YiudloVkr/SKsGv3zSQIaN+OCx0Gb3CnLoJUS/ILQowHQs2K7+9Zr1KoUQDpF31zntrxQD4AWPRyrI5br3eZz5Uy8rJQI0Il00OvZgI2IyKDcjqxe20GKKnEQN7qvnTZb46wujQzyVShpXeiPlKYr5Jc0jFZjJRTwxgTObGNGs2rom9FxqB2tKOPfSqZspI5R4oI7sVzrmmMsYjuLsowQ6wLHqCd0PImjtOGq6ctUmKfZhjgAPSZOLhG0NMla6ws2t5T1LmaX68zk+D1kFERGsio2m4B/oHTLwgOT0N+5laSMVpzlaEW9iRIJg2/PYAC7eIZqX/XEoLBLIxcwsEuu+fQxI8Llkkcrw3qQe2dQD2IGXU96S79thySXkrS+SkKhBcDjEl01KdxgnC3zNaTObPRquHNgZkYVCCpnbkD45w7uzmcIxOlMHJXefsKVvvjLknOktdvh8ql8tPa4cyWAObeeUqlwjrOT21Ja5NfoZx2A8YIQXMDJKU0OsjdlePy1C80j5+xPxBIKAn7xqnGixW4WUiwMhXHH/JvNjaNK62yMwm6WjMNJv1W1DW+6Yf7uIgYc72ljOw8xGlGsY5Qyc9FUZAXeaBzPTHG2FflUqWQlA2GmYGxGEIXZz47Dv2MLwPn3kLQdw9u3vv1bbWEllhq7WxqRScZO2L8WstZaEILz8QTikY1jiqxIFvV23PShpbYtKND++jzAImTL596k4YFFfGS/9ln+NLmcuYakTMbtvuBQtyTCISMwOlxxm4T3puU9fWJ/6wqSJqhVv+rPILkyhaL0FWFrvsAyuu8p+q6\"/>\\n    <input type=\"hidden\" value=\"6d12384d49e3ad91d32d529b36f4eb40\" id=\"jschl-vc\" name=\"jschl_vc\"/>\\n    <!-- <input type=\"hidden\" value=\"\" id=\"jschl-vc\" name=\"jschl_vc\"/> -->\\n    <input type=\"hidden\" name=\"pass\" value=\"1627055408.053-a2zTU83r8S\"/>\\n    <input type=\"hidden\" id=\"jschl-answer\" name=\"jschl_answer\"/>\\n  </form>\\n     \\n    <script type=\"text/javascript\">\\n      //<![CDATA[\\n      (function(){\\n          var a = document.getElementById(\\'cf-content\\');\\n          a.style.display = \\'block\\';\\n          var isIE = /(MSIE|Trident\\\\/|Edge\\\\/)/i.test(window.navigator.userAgent);\\n          var trkjs = isIE ? new Image() : document.createElement(\\'img\\');\\n          trkjs.setAttribute(\"src\", \"/cdn-cgi/images/trace/jschal/js/transparent.gif?ray=67360ff33ed30738\");\\n          trkjs.id = \"trk_jschal_js\";\\n          trkjs.setAttribute(\"alt\", \"\");\\n          document.body.appendChild(trkjs);\\n          var cpo=document.createElement(\\'script\\');\\n          cpo.type=\\'text/javascript\\';\\n          cpo.src=\"/cdn-cgi/challenge-platform/h/g/orchestrate/jsch/v1?ray=67360ff33ed30738\";\\n          document.getElementsByTagName(\\'head\\')[0].appendChild(cpo);\\n        }());\\n      //]]>\\n    </script>\\n  \\n\\n  \\n  <div id=\"trk_jschal_nojs\" style=\"background-image:url(\\'/cdn-cgi/images/trace/jschal/nojs/transparent.gif?ray=67360ff33ed30738\\')\"> </div>\\n</div>\\n\\n            </div>\\n\\n            <p>\\n                <small><strong>Ray ID:</strong> 67360ff33ed30738</small>\\n            </p>\\n        </div>\\n    </body>\\n</html>'"
      ]
     },
     "execution_count": 5,
     "metadata": {},
     "output_type": "execute_result"
    }
   ],
   "source": [
    "header={\n",
    "    'access-control-allow-methods': 'GET, HEAD',\n",
    "    'access-control-allow-origin': '*',\n",
    "    'access-control-expose-headers': 'ETag',\n",
    "    'access-control-max-age': '3600',\n",
    "    'age': '2750'\n",
    "    \n",
    "    \n",
    "}\n",
    "\n",
    "import requests\n",
    "headers = {'user-agent': 'my-app/0.0.1'}\n",
    "r = requests.get('https://www.mobile01.com/',headers=headers)\n",
    "response = r.text\n",
    "\n",
    "response\n",
    "# 加上上述的header讓原本完全沒資料，能夠有一些跑出來"
   ]
  },
  {
   "cell_type": "code",
   "execution_count": null,
   "metadata": {},
   "outputs": [],
   "source": []
  }
 ],
 "metadata": {
  "kernelspec": {
   "display_name": "Python 3",
   "language": "python",
   "name": "python3"
  },
  "language_info": {
   "codemirror_mode": {
    "name": "ipython",
    "version": 3
   },
   "file_extension": ".py",
   "mimetype": "text/x-python",
   "name": "python",
   "nbconvert_exporter": "python",
   "pygments_lexer": "ipython3",
   "version": "3.7.3"
  }
 },
 "nbformat": 4,
 "nbformat_minor": 2
}
