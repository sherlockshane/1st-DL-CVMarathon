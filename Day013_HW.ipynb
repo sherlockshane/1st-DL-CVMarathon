{
 "cells": [
  {
   "cell_type": "markdown",
   "metadata": {},
   "source": [
    "# PTT 網路爬蟲實作練習\n",
    "\n",
    "\n",
    "* 能夠利用 Request + BeatifulSour 撰寫爬蟲，並存放到合適的資料結構\n"
   ]
  },
  {
   "cell_type": "markdown",
   "metadata": {},
   "source": [
    "## 作業目標\n",
    "\n",
    "根據範例 ，完成以下問題：\n",
    "\n",
    "* ① 印出最新文章的「作者」「標題」「時間」\n",
    "* ② 印出第一頁所有文章的「作者」「標題」「時間」\n"
   ]
  },
  {
   "cell_type": "markdown",
   "metadata": {},
   "source": [
    "### ① 印出最新文章的「作者」「標題」「時間」"
   ]
  },
  {
   "cell_type": "code",
   "execution_count": 1,
   "metadata": {},
   "outputs": [
    {
     "name": "stdout",
     "output_type": "stream",
     "text": [
      "(已被p刪除) <MidoriG>不含網址標點147字 退\n",
      "(本文已被刪除) [ckf2273101]\n",
      "Re: [討論] Booker當年怎麼會落到第13順位？\n",
      "作者: bll135 (洪爺)\n",
      "[討論] 西河<->CP3+四首輪是史上最搶劫的交易嗎\n",
      "作者: Boris5566 (weey)\n",
      "[新聞] LBZ 16.5億雙星竟成打鐵兄弟　公鹿要怎麼\n",
      "作者: asdf1256 (guest)\n",
      "[新聞] 快艇近5年付7億美元豪華稅 老闆：這還不\n",
      "作者: VeryGoodBoy (很棒的男孩)\n",
      "[新聞] 公鹿0比2落後劣勢　賈霸先預測6場解決太陽奪冠\n",
      "作者: laptic (靜夜聖林彼岸花)\n",
      "[情報] 保羅：Booker 不出手的話 我會兇他\n",
      "作者: shenjade (千里共嬋娟)\n",
      "[花邊] CP3、Booker總冠軍賽兩戰得113分 超越浪花\n",
      "作者: thnlkj0665 (灰色地帶)\n",
      "[新聞] 研究公鹿東冠對老鷹策略 威廉斯：頂住禁\n",
      "作者: humbler (獸人H)\n",
      "[花邊] KD私生活曝光！沒女友抽很多大麻　美記\n",
      "作者: lovea (lovea)\n",
      "[情報] Giannis本季季後賽平均罰球時間\n",
      "作者: WIGGINS22 (楓葉國佐敦)\n",
      "Re: [情報] NBA Finals G1收視出爐（歷史第二低）\n",
      "作者: mingonly (Ashley Grecia)\n",
      "[新聞] 塔克一路斬火箭隊友　冠軍賽對決CP3不傳\n",
      "作者: go190214 (天空之島拉普達)\n",
      "[花邊] Monty激勵Ayton 拿出本事去統治球場\n",
      "作者: Aggro (阿果)\n",
      "[新聞] 「爵士股東」韋德擁抱保羅鼓勵再贏2場\n",
      "作者: wadecp3 (韋德嬉皮三)\n",
      "[情報] Playoffs Schedule 20–21\n",
      "作者: laptic (靜夜聖林彼岸花)\n",
      "[情報] 2020-21 NBA Playoffs (Next：07/12 太公 G3)\n",
      "作者: laptic (靜夜聖林彼岸花)\n",
      "[公告] 板規v7.8\n",
      "[公告] 有獎徵求進板畫面 總獎金70000P\n",
      "作者: Induction (愛人愛己)\n",
      "Fw: [公告] 救濟專案說明\n",
      "作者: Vedan (百鬼組-味丹)\n"
     ]
    }
   ],
   "source": [
    "import requests\n",
    "from bs4 import BeautifulSoup\n",
    "\n",
    "url = 'https://www.ptt.cc/bbs/NBA/index.html'\n",
    "r = requests.get(url)\n",
    "\n",
    "soup = BeautifulSoup(r.text, \"html5lib\")\n",
    "\n",
    "for d in soup.find_all(class_=\"title\"):\n",
    "    print(d.text.replace('\\t', '').replace('\\n', ''))\n",
    "    try:\n",
    "        r = BeautifulSoup(requests.get('https://www.ptt.cc'+d.find('a')['href']).text, \"html5lib\")\n",
    "        print('作者: ' + r.find(class_='article-meta-value').text)\n",
    "    except:\n",
    "        continue"
   ]
  },
  {
   "cell_type": "markdown",
   "metadata": {},
   "source": [
    "### ② 印出第一頁所有文章的「作者」「標題」「時間」"
   ]
  },
  {
   "cell_type": "code",
   "execution_count": null,
   "metadata": {},
   "outputs": [],
   "source": [
    "import requests\n",
    "from bs4 import BeautifulSoup\n",
    "\n",
    "url = 'https://www.ptt.cc/bbs/NBA/index.html'\n",
    "r = requests.get(url)\n",
    "\n",
    "soup = BeautifulSoup(r.text, \"html5lib\")\n",
    "\n",
    "for d in soup.find_all(class_=\"title\"):\n",
    "    print(d.text.replace('\\t', '').replace('\\n', ''))\n",
    "    try:\n",
    "        r = BeautifulSoup(requests.get('https://www.ptt.cc'+d.find('a')['href']).text, \"html5lib\")\n",
    "        print('作者: ' + r.find(class_='article-meta-value').text)\n",
    "    except:\n",
    "        continue"
   ]
  },
  {
   "cell_type": "markdown",
   "metadata": {},
   "source": [
    "### ③ 試著爬爬看其他版的文章"
   ]
  },
  {
   "cell_type": "code",
   "execution_count": 2,
   "metadata": {},
   "outputs": [
    {
     "name": "stdout",
     "output_type": "stream",
     "text": [
      "[問題] MLB明星賽沒參加的球員在幹嘛\n",
      "作者: anper (鏡中人)\n",
      "[公告] 板規/即時資訊\n",
      "[整理] 2021棒球賽事轉播節目表\n",
      "作者: johnnyckvs (體育賽事喜好者@912139)\n",
      "[公告] 棒球版版主投票開始 為期七天\n",
      "作者: NSJ911005 (還是種田適合我)\n",
      "[公告] Baseball 板 開始舉辦樂透!\n",
      "作者: NSJ911005\n",
      "[LIVE] 2021 CPBL模擬選秀 第一場\n"
     ]
    }
   ],
   "source": [
    "import requests\n",
    "from bs4 import BeautifulSoup\n",
    "\n",
    "url = 'https://www.ptt.cc/bbs/Baseball/index.html'\n",
    "r = requests.get(url)\n",
    "\n",
    "soup = BeautifulSoup(r.text, \"html5lib\")\n",
    "\n",
    "for d in soup.find_all(class_=\"title\"):\n",
    "    print(d.text.replace('\\t', '').replace('\\n', ''))\n",
    "    try:\n",
    "        r = BeautifulSoup(requests.get('https://www.ptt.cc'+d.find('a')['href']).text, \"html5lib\")\n",
    "        print('作者: ' + r.find(class_='article-meta-value').text)\n",
    "    except:\n",
    "        continue"
   ]
  },
  {
   "cell_type": "code",
   "execution_count": null,
   "metadata": {},
   "outputs": [],
   "source": []
  }
 ],
 "metadata": {
  "kernelspec": {
   "display_name": "Python 3",
   "language": "python",
   "name": "python3"
  },
  "language_info": {
   "codemirror_mode": {
    "name": "ipython",
    "version": 3
   },
   "file_extension": ".py",
   "mimetype": "text/x-python",
   "name": "python",
   "nbconvert_exporter": "python",
   "pygments_lexer": "ipython3",
   "version": "3.7.3"
  }
 },
 "nbformat": 4,
 "nbformat_minor": 2
}
