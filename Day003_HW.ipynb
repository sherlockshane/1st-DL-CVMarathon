{
 "cells": [
  {
   "cell_type": "markdown",
   "metadata": {},
   "source": [
    "# Python 下載XML檔案與解析\n",
    "\n",
    "\n",
    "* 了解 xml 檔案格式與內容\n",
    "* 能夠利用套件存取 xml 格式的檔案\n"
   ]
  },
  {
   "cell_type": "markdown",
   "metadata": {},
   "source": [
    "## 作業目標\n",
    "\n",
    "* 比較一下範例檔案中的「File I/O」與「xmltodict」讀出來的內容有什麼差異\n",
    "\n",
    "* 根據範例檔案的結果：\n",
    "    1. 請問高雄市有多少地區有溫度資料？\n",
    "    2. 請取出每一個地區所記錄的第一個時間點跟溫度\n",
    "    3. 請取出第一個地區所記錄的每一個時間點跟溫度"
   ]
  },
  {
   "cell_type": "markdown",
   "metadata": {},
   "source": [
    "### 比較一下範例檔案中的「File I/O」與「xmltodict」讀出來的內容有什麼差異\n"
   ]
  },
  {
   "cell_type": "code",
   "execution_count": null,
   "metadata": {},
   "outputs": [],
   "source": [
    "'''\n",
    "Your Code\n",
    "'''"
   ]
  },
  {
   "cell_type": "markdown",
   "metadata": {},
   "source": [
    "### 根據範例檔案的結果：\n",
    "\n",
    "1. 請問高雄市有多少地區有溫度資料？\n",
    "2. 請取出每一個地區所記錄的第一個時間點跟溫度\n",
    "3. 請取出第一個地區所記錄的每一個時間點跟溫度"
   ]
  },
  {
   "cell_type": "code",
   "execution_count": 2,
   "metadata": {},
   "outputs": [],
   "source": [
    "import urllib.request\n",
    "import zipfile\n",
    "\n",
    "res = \"http://opendata.cwb.gov.tw/govdownload?dataid=F-D0047-093&authorizationkey=rdec-key-123-45678-011121314\"\n",
    "urllib.request.urlretrieve(res, \"./Day3_example.zip\")\n",
    "f = zipfile.ZipFile('./Day3_example.zip')\n",
    "f.extractall('./data_day3')\n"
   ]
  },
  {
   "cell_type": "code",
   "execution_count": 42,
   "metadata": {},
   "outputs": [
    {
     "name": "stdout",
     "output_type": "stream",
     "text": [
      "共38個\n"
     ]
    }
   ],
   "source": [
    "# 1. 請問高雄市有多少地區有溫度資料？\n",
    "fh=open(\"./data_day3/64_72hr_CH.xml\",\"r\",encoding=\"utf-8\")\n",
    "xml=fh.read()\n",
    "fh.close()\n",
    "#print(xml)\n",
    "\n",
    "# 解析檔案內容\n",
    "import xmltodict\n",
    "d = dict(xmltodict.parse(xml))\n",
    "# 取出 datasetDescription\n",
    "i=0\n",
    "count=0\n",
    "locationName = d['cwbopendata']['dataset']['locations']['location'][i]['locationName']\n",
    "for i in range (0,len(location)):\n",
    "     weatherElement = d['cwbopendata']['dataset']['locations']['location'][i]['weatherElement']\n",
    "     if weatherElement:\n",
    "        count += 1\n",
    "\n",
    "print(\"共\"+ str(count) + \"個\")\n"
   ]
  },
  {
   "cell_type": "code",
   "execution_count": 68,
   "metadata": {},
   "outputs": [
    {
     "name": "stdout",
     "output_type": "stream",
     "text": [
      "2020-08-02T12:00:00+08:00\n",
      "33\n",
      "2020-08-02T12:00:00+08:00\n",
      "33\n",
      "2020-08-02T12:00:00+08:00\n",
      "32\n",
      "2020-08-02T12:00:00+08:00\n",
      "33\n",
      "2020-08-02T12:00:00+08:00\n",
      "32\n",
      "2020-08-02T12:00:00+08:00\n",
      "33\n",
      "2020-08-02T12:00:00+08:00\n",
      "33\n",
      "2020-08-02T12:00:00+08:00\n",
      "33\n",
      "2020-08-02T12:00:00+08:00\n",
      "33\n",
      "2020-08-02T12:00:00+08:00\n",
      "33\n",
      "2020-08-02T12:00:00+08:00\n",
      "33\n",
      "2020-08-02T12:00:00+08:00\n",
      "34\n",
      "2020-08-02T12:00:00+08:00\n",
      "33\n",
      "2020-08-02T12:00:00+08:00\n",
      "34\n",
      "2020-08-02T12:00:00+08:00\n",
      "34\n",
      "2020-08-02T12:00:00+08:00\n",
      "33\n",
      "2020-08-02T12:00:00+08:00\n",
      "34\n",
      "2020-08-02T12:00:00+08:00\n",
      "34\n",
      "2020-08-02T12:00:00+08:00\n",
      "33\n",
      "2020-08-02T12:00:00+08:00\n",
      "34\n",
      "2020-08-02T12:00:00+08:00\n",
      "33\n",
      "2020-08-02T12:00:00+08:00\n",
      "33\n",
      "2020-08-02T12:00:00+08:00\n",
      "34\n",
      "2020-08-02T12:00:00+08:00\n",
      "34\n",
      "2020-08-02T12:00:00+08:00\n",
      "33\n",
      "2020-08-02T12:00:00+08:00\n",
      "33\n",
      "2020-08-02T12:00:00+08:00\n",
      "32\n",
      "2020-08-02T12:00:00+08:00\n",
      "32\n",
      "2020-08-02T12:00:00+08:00\n",
      "33\n",
      "2020-08-02T12:00:00+08:00\n",
      "34\n",
      "2020-08-02T12:00:00+08:00\n",
      "34\n",
      "2020-08-02T12:00:00+08:00\n",
      "34\n",
      "2020-08-02T12:00:00+08:00\n",
      "34\n",
      "2020-08-02T12:00:00+08:00\n",
      "35\n",
      "2020-08-02T12:00:00+08:00\n",
      "33\n",
      "2020-08-02T12:00:00+08:00\n",
      "34\n",
      "2020-08-02T12:00:00+08:00\n",
      "31\n",
      "2020-08-02T12:00:00+08:00\n",
      "30\n"
     ]
    }
   ],
   "source": [
    "# 2. 請取出每一個地區所記錄的第一個時間點跟溫度\n",
    "count=0\n",
    "for i in range(0,len(location)):\n",
    "    t = d['cwbopendata']['dataset']['locations']['location'][i]['weatherElement']\n",
    "    time = d['cwbopendata']['dataset']['locations']['location'][i]['weatherElement'][0]['time'][0]['dataTime']\n",
    "    temp = d['cwbopendata']['dataset']['locations']['location'][i]['weatherElement'][0]['time'][0]['elementValue']['value']\n",
    "    if t:\n",
    "        count += 1\n",
    "        print(time)\n",
    "        print(temp)\n",
    "#print(t)\n",
    "\n"
   ]
  },
  {
   "cell_type": "code",
   "execution_count": 73,
   "metadata": {},
   "outputs": [
    {
     "name": "stdout",
     "output_type": "stream",
     "text": [
      "2020-08-05T09:00:00+08:00\n",
      "33\n",
      "2020-08-05T09:00:00+08:00\n",
      "32\n",
      "2020-08-05T09:00:00+08:00\n",
      "30\n",
      "2020-08-05T09:00:00+08:00\n",
      "29\n",
      "2020-08-05T09:00:00+08:00\n",
      "28\n",
      "2020-08-05T09:00:00+08:00\n",
      "28\n",
      "2020-08-05T09:00:00+08:00\n",
      "27\n",
      "2020-08-05T09:00:00+08:00\n",
      "30\n",
      "2020-08-05T09:00:00+08:00\n",
      "32\n",
      "2020-08-05T09:00:00+08:00\n",
      "32\n",
      "2020-08-05T09:00:00+08:00\n",
      "30\n",
      "2020-08-05T09:00:00+08:00\n",
      "28\n",
      "2020-08-05T09:00:00+08:00\n",
      "28\n",
      "2020-08-05T09:00:00+08:00\n",
      "27\n",
      "2020-08-05T09:00:00+08:00\n",
      "27\n",
      "2020-08-05T09:00:00+08:00\n",
      "30\n",
      "2020-08-05T09:00:00+08:00\n",
      "33\n",
      "2020-08-05T09:00:00+08:00\n",
      "32\n",
      "2020-08-05T09:00:00+08:00\n",
      "31\n",
      "2020-08-05T09:00:00+08:00\n",
      "29\n",
      "2020-08-05T09:00:00+08:00\n",
      "29\n",
      "2020-08-05T09:00:00+08:00\n",
      "28\n",
      "2020-08-05T09:00:00+08:00\n",
      "28\n",
      "2020-08-05T09:00:00+08:00\n",
      "31\n"
     ]
    },
    {
     "ename": "IndexError",
     "evalue": "list index out of range",
     "output_type": "error",
     "traceback": [
      "\u001b[1;31m---------------------------------------------------------------------------\u001b[0m",
      "\u001b[1;31mIndexError\u001b[0m                                Traceback (most recent call last)",
      "\u001b[1;32m<ipython-input-73-b1ddc78afda1>\u001b[0m in \u001b[0;36m<module>\u001b[1;34m\u001b[0m\n\u001b[0;32m      4\u001b[0m \u001b[1;32mfor\u001b[0m \u001b[0mi\u001b[0m \u001b[1;32min\u001b[0m \u001b[0mrange\u001b[0m\u001b[1;33m(\u001b[0m\u001b[1;36m0\u001b[0m\u001b[1;33m,\u001b[0m\u001b[0mlen\u001b[0m\u001b[1;33m(\u001b[0m\u001b[0mtime\u001b[0m\u001b[1;33m)\u001b[0m\u001b[1;33m)\u001b[0m\u001b[1;33m:\u001b[0m\u001b[1;33m\u001b[0m\u001b[1;33m\u001b[0m\u001b[0m\n\u001b[0;32m      5\u001b[0m     \u001b[1;31m#t = d['cwbopendata']['dataset']['locations']['location'][0]['weatherElement']\u001b[0m\u001b[1;33m\u001b[0m\u001b[1;33m\u001b[0m\u001b[1;33m\u001b[0m\u001b[0m\n\u001b[1;32m----> 6\u001b[1;33m     \u001b[0mtimee\u001b[0m \u001b[1;33m=\u001b[0m \u001b[0md\u001b[0m\u001b[1;33m[\u001b[0m\u001b[1;34m'cwbopendata'\u001b[0m\u001b[1;33m]\u001b[0m\u001b[1;33m[\u001b[0m\u001b[1;34m'dataset'\u001b[0m\u001b[1;33m]\u001b[0m\u001b[1;33m[\u001b[0m\u001b[1;34m'locations'\u001b[0m\u001b[1;33m]\u001b[0m\u001b[1;33m[\u001b[0m\u001b[1;34m'location'\u001b[0m\u001b[1;33m]\u001b[0m\u001b[1;33m[\u001b[0m\u001b[1;36m0\u001b[0m\u001b[1;33m]\u001b[0m\u001b[1;33m[\u001b[0m\u001b[1;34m'weatherElement'\u001b[0m\u001b[1;33m]\u001b[0m\u001b[1;33m[\u001b[0m\u001b[1;36m0\u001b[0m\u001b[1;33m]\u001b[0m\u001b[1;33m[\u001b[0m\u001b[1;34m'time'\u001b[0m\u001b[1;33m]\u001b[0m\u001b[1;33m[\u001b[0m\u001b[0mi\u001b[0m\u001b[1;33m]\u001b[0m\u001b[1;33m[\u001b[0m\u001b[1;34m'dataTime'\u001b[0m\u001b[1;33m]\u001b[0m\u001b[1;33m\u001b[0m\u001b[1;33m\u001b[0m\u001b[0m\n\u001b[0m\u001b[0;32m      7\u001b[0m     \u001b[0mtemp\u001b[0m \u001b[1;33m=\u001b[0m \u001b[0md\u001b[0m\u001b[1;33m[\u001b[0m\u001b[1;34m'cwbopendata'\u001b[0m\u001b[1;33m]\u001b[0m\u001b[1;33m[\u001b[0m\u001b[1;34m'dataset'\u001b[0m\u001b[1;33m]\u001b[0m\u001b[1;33m[\u001b[0m\u001b[1;34m'locations'\u001b[0m\u001b[1;33m]\u001b[0m\u001b[1;33m[\u001b[0m\u001b[1;34m'location'\u001b[0m\u001b[1;33m]\u001b[0m\u001b[1;33m[\u001b[0m\u001b[1;36m0\u001b[0m\u001b[1;33m]\u001b[0m\u001b[1;33m[\u001b[0m\u001b[1;34m'weatherElement'\u001b[0m\u001b[1;33m]\u001b[0m\u001b[1;33m[\u001b[0m\u001b[1;36m0\u001b[0m\u001b[1;33m]\u001b[0m\u001b[1;33m[\u001b[0m\u001b[1;34m'time'\u001b[0m\u001b[1;33m]\u001b[0m\u001b[1;33m[\u001b[0m\u001b[0mi\u001b[0m\u001b[1;33m]\u001b[0m\u001b[1;33m[\u001b[0m\u001b[1;34m'elementValue'\u001b[0m\u001b[1;33m]\u001b[0m\u001b[1;33m[\u001b[0m\u001b[1;34m'value'\u001b[0m\u001b[1;33m]\u001b[0m\u001b[1;33m\u001b[0m\u001b[1;33m\u001b[0m\u001b[0m\n\u001b[0;32m      8\u001b[0m     \u001b[0mprint\u001b[0m\u001b[1;33m(\u001b[0m\u001b[0mtime\u001b[0m\u001b[1;33m)\u001b[0m\u001b[1;33m\u001b[0m\u001b[1;33m\u001b[0m\u001b[0m\n",
      "\u001b[1;31mIndexError\u001b[0m: list index out of range"
     ]
    }
   ],
   "source": [
    "# 3. 請取出第一個地區所記錄的每一個時間點跟溫度\n",
    "count=0\n",
    "i=0\n",
    "for i in range(0,len(time)):\n",
    "    #t = d['cwbopendata']['dataset']['locations']['location'][0]['weatherElement']\n",
    "    timee = d['cwbopendata']['dataset']['locations']['location'][0]['weatherElement'][0]['time'][i]['dataTime']\n",
    "    temp = d['cwbopendata']['dataset']['locations']['location'][0]['weatherElement'][0]['time'][i]['elementValue']['value']\n",
    "    print(time)\n",
    "    print(temp)\n"
   ]
  },
  {
   "cell_type": "code",
   "execution_count": null,
   "metadata": {},
   "outputs": [],
   "source": []
  }
 ],
 "metadata": {
  "kernelspec": {
   "display_name": "Python 3",
   "language": "python",
   "name": "python3"
  },
  "language_info": {
   "codemirror_mode": {
    "name": "ipython",
    "version": 3
   },
   "file_extension": ".py",
   "mimetype": "text/x-python",
   "name": "python",
   "nbconvert_exporter": "python",
   "pygments_lexer": "ipython3",
   "version": "3.7.3"
  }
 },
 "nbformat": 4,
 "nbformat_minor": 2
}
